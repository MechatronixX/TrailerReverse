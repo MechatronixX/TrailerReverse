{
 "cells": [
  {
   "cell_type": "markdown",
   "metadata": {},
   "source": [
    "# Modeling\n",
    "Solve for the kinematic model used to simulate the trailer system\n"
   ]
  },
  {
   "cell_type": "code",
   "execution_count": null,
   "metadata": {},
   "outputs": [],
   "source": [
    "from sympy.solvers import solve\n",
    "from sympy import Function, Symbol\n",
    "#from __future__ import division\n",
    "from sympy import var, latex\n",
    "from sympy import rot_axis3\n",
    "from sympy.matrices import *\n",
    "from sympy.vector import CoordSys3D"
   ]
  },
  {
   "cell_type": "code",
   "execution_count": null,
   "metadata": {},
   "outputs": [],
   "source": []
  },
  {
   "cell_type": "code",
   "execution_count": null,
   "metadata": {},
   "outputs": [],
   "source": [
    "var('t')\n",
    "#Angles and their derivatives. \n",
    "var('q1, q2, q3')\n",
    "q1 = Function('q1')(t)\n",
    "q2 = Function('q2')(t)\n",
    "q3 = Function('q3')(t)\n",
    "\n",
    "\n",
    "\n",
    "var('q1_d, q2_d, q3_d')\n",
    "\n",
    "#Scalar components of velocity for each of the bodies as expressed in the world frame. \n",
    "var('v1x, v1y, v2x, v2y, v3x,v3y')\n",
    "\n",
    "#Scalar length origin i --> hinge j  rihj\n",
    "var('r1h1, r2h1, r2h2, r3h2')\n"
   ]
  },
  {
   "cell_type": "code",
   "execution_count": null,
   "metadata": {},
   "outputs": [],
   "source": [
    "v1 = Matrix([q1,q2,q3])"
   ]
  },
  {
   "cell_type": "code",
   "execution_count": null,
   "metadata": {},
   "outputs": [],
   "source": [
    "v1.dot(v1)"
   ]
  },
  {
   "cell_type": "code",
   "execution_count": null,
   "metadata": {},
   "outputs": [],
   "source": [
    "\n",
    "\n"
   ]
  },
  {
   "cell_type": "markdown",
   "metadata": {},
   "source": [
    "Rotation matrices. Expreses a vector expressed in frame index $k$ in the frame index $l$, as **l_to_k**"
   ]
  },
  {
   "cell_type": "code",
   "execution_count": null,
   "metadata": {},
   "outputs": [],
   "source": [
    "R_1_to_0 = rot_axis3(q1)\n",
    "R_2_to_1 = rot_axis3(q2)\n",
    "R_3_to_2 = rot_axis3(q3)\n",
    "\n",
    "#Combined rotations.\n",
    "R_2_to_0 = ImmutableDenseMatrix(R_1_to_0*R_2_to_1).simplify()\n",
    "R_3_to_0 = ImmutableDenseMatrix(R_1_to_0*R_2_to_1*R_3_to_2).simplify()"
   ]
  },
  {
   "cell_type": "code",
   "execution_count": null,
   "metadata": {},
   "outputs": [],
   "source": [
    "(R_2_to_1*R_1_to_0).simplify()"
   ]
  },
  {
   "cell_type": "code",
   "execution_count": null,
   "metadata": {},
   "outputs": [],
   "source": [
    "R_3_to_0\n",
    "\n"
   ]
  },
  {
   "cell_type": "markdown",
   "metadata": {},
   "source": [
    "Create vectors spanning from origins to hingepoints."
   ]
  },
  {
   "cell_type": "code",
   "execution_count": null,
   "metadata": {},
   "outputs": [],
   "source": [
    "r1h1_vec = R_1_to_0*Matrix([0, -r1h1, 0])\n",
    "r2h1_vec = R_2_to_0*Matrix([0,  r2h1, 0])\n"
   ]
  },
  {
   "cell_type": "code",
   "execution_count": null,
   "metadata": {},
   "outputs": [],
   "source": [
    "r1h1_vec.diff(t)"
   ]
  },
  {
   "cell_type": "markdown",
   "metadata": {},
   "source": [
    "Extract unit vector for the x-axises of each trailer. Note that the columns of the rotation matrices are the unitvectors of  coordinate system $l$ expressed in coordinate sytem $k$, or\n",
    "\n",
    "$R^k_l = \\begin{bmatrix} \\vec{e}_{x} & \\vec{e}_y, & \\vec{e}_x \\end{bmatrix}  $"
   ]
  },
  {
   "cell_type": "code",
   "execution_count": null,
   "metadata": {},
   "outputs": [],
   "source": [
    "ex2 = R_2_to_0[:,0]\n",
    "ex3 = R_3_to_0[:,0]"
   ]
  },
  {
   "cell_type": "code",
   "execution_count": null,
   "metadata": {},
   "outputs": [],
   "source": [
    "ex2.dot(ex2)"
   ]
  },
  {
   "cell_type": "markdown",
   "metadata": {},
   "source": [
    "Solve equation system\n",
    "\n",
    "\\begin{align}\n",
    "  \\dot{\\vec{O}}_2  =  \\dot{\\vec{O}}_1 + \\dot{\\vec{r}}_{1h1}-\\dot{\\vec{r}}_{2h1} \\\\\n",
    "  \\dot{\\vec{O}}_2 \\cdot \\vec{e}_{x2}   =0  \\label{eq:trailerNonHolonomic}\n",
    "\\end{align}"
   ]
  },
  {
   "cell_type": "code",
   "execution_count": null,
   "metadata": {},
   "outputs": [],
   "source": [
    "d_r1h1_vec = r1h1_vec.diff(t)\n",
    "d_r2h1_vec = r2h1_vec.diff(t)\n",
    "\n",
    "#Derivative of vector to origin o2 and 01\n",
    "var('d_o2x, d_o2y, d_o2z')\n",
    "var('d_o1x, d_o1y, d_o1z')\n",
    "d_O1 = Matrix([d_o1x, d_o1y, 0])\n",
    "d_O2 = Matrix([d_o2x, d_o2y, 0])\n",
    "\n",
    "\n",
    "eqToSolve = [d_O2 - d_O1 - d_r1h1_vec + d_r2h1_vec , d_O2.dot(ex2) ]\n",
    "\n",
    "sol = solve(eqToSolve , [d_o2x, d_o2y, q2.diff(t)])#, dict = True )"
   ]
  },
  {
   "cell_type": "code",
   "execution_count": null,
   "metadata": {},
   "outputs": [],
   "source": [
    "sol[d_o2x]"
   ]
  },
  {
   "cell_type": "code",
   "execution_count": null,
   "metadata": {},
   "outputs": [],
   "source": [
    "sol[d_o2y]"
   ]
  },
  {
   "cell_type": "code",
   "execution_count": null,
   "metadata": {},
   "outputs": [],
   "source": [
    "sol[q2.diff(t)]"
   ]
  },
  {
   "cell_type": "code",
   "execution_count": null,
   "metadata": {},
   "outputs": [],
   "source": [
    "#TODO: Compare to cross product solution"
   ]
  },
  {
   "cell_type": "code",
   "execution_count": null,
   "metadata": {},
   "outputs": [],
   "source": [
    "d_O2.dot(Matrix(ex2))"
   ]
  },
  {
   "cell_type": "code",
   "execution_count": null,
   "metadata": {},
   "outputs": [],
   "source": [
    "d_r2h1_vec"
   ]
  },
  {
   "cell_type": "code",
   "execution_count": null,
   "metadata": {},
   "outputs": [],
   "source": [
    "sol"
   ]
  },
  {
   "cell_type": "code",
   "execution_count": null,
   "metadata": {},
   "outputs": [],
   "source": [
    "w1 = Matrix([0,0,q1_d])\n",
    "w2 = Matrix([0,0,q2_d])\n",
    "w3 = Matrix([0,0,q3_d])"
   ]
  },
  {
   "cell_type": "code",
   "execution_count": null,
   "metadata": {},
   "outputs": [],
   "source": [
    "v11 = Matrix([0, v1y, 0])\n",
    "O1_d = R_1_to_0*v11"
   ]
  },
  {
   "cell_type": "code",
   "execution_count": null,
   "metadata": {},
   "outputs": [],
   "source": [
    "O2_d  = O1_d + w1.cross( R_1_to_0*Matrix([0, r1h1,0])  ) - w2.cross( R_2_to_0*Matrix([0, r2h1,0]) )\n",
    "O2_d.simplify()"
   ]
  },
  {
   "cell_type": "markdown",
   "metadata": {},
   "source": []
  },
  {
   "cell_type": "code",
   "execution_count": null,
   "metadata": {},
   "outputs": [],
   "source": []
  },
  {
   "cell_type": "code",
   "execution_count": null,
   "metadata": {},
   "outputs": [],
   "source": [
    "ex3"
   ]
  },
  {
   "cell_type": "code",
   "execution_count": null,
   "metadata": {},
   "outputs": [],
   "source": []
  }
 ],
 "metadata": {
  "kernelspec": {
   "display_name": "Python 3",
   "language": "python",
   "name": "python3"
  },
  "language_info": {
   "codemirror_mode": {
    "name": "ipython",
    "version": 3
   },
   "file_extension": ".py",
   "mimetype": "text/x-python",
   "name": "python",
   "nbconvert_exporter": "python",
   "pygments_lexer": "ipython3",
   "version": "3.7.4"
  }
 },
 "nbformat": 4,
 "nbformat_minor": 2
}
