{
 "cells": [
  {
   "cell_type": "code",
   "execution_count": 1,
   "metadata": {},
   "outputs": [],
   "source": [
    "import numpy as np\n",
    "from numpy import array\n",
    "import matplotlib\n",
    "import matplotlib.pyplot as plt\n",
    "from matplotlib import patches\n",
    "from matplotlib import transforms\n",
    "%matplotlib inline"
   ]
  },
  {
   "cell_type": "code",
   "execution_count": 35,
   "metadata": {},
   "outputs": [],
   "source": [
    "steering_percentage = -0.5\n",
    "truck_translation = array([10,5])\n",
    "truck_rotation = -135\n",
    "trailer_rotation = 15\n",
    "destination_translation = array([18,17.5])\n",
    "destination_rotation = 90"
   ]
  },
  {
   "cell_type": "code",
   "execution_count": 36,
   "metadata": {},
   "outputs": [],
   "source": [
    "yard_shape = array([20,20])\n",
    "truck_shape = array([5,2])\n",
    "destination_shape = array([5,2])\n",
    "trailer_shape = array([4,2])\n",
    "shaft_shape = array([1,0.2])\n",
    "wheel_shape = array([0.8,0.4])\n",
    "item_translations_truck = array([\n",
    "    [0,0],\n",
    "    [-1,-0.8],\n",
    "    [-1,0.8],\n",
    "    [0,-0.8],\n",
    "    [0,0.8],\n",
    "    [2,-0.8],\n",
    "    [2,0.8]])\n",
    "item_translations_trailer = array([\n",
    "    [0,0],\n",
    "    [2.5,0],\n",
    "    [-1,-0.8],\n",
    "    [-1,0.8],\n",
    "    [0,-0.8],\n",
    "    [0,0.8]])\n",
    "rotation_center_truck = array([2,1])\n",
    "rotation_center_trailer = array([2,1])\n",
    "hitch_translation_truck = -2\n",
    "hitch_translation_trailer = 3\n",
    "maximal_steering_angle = 60\n",
    "\n",
    "# truck item numbers\n",
    "# 0: truck\n",
    "# 1: wheel back right\n",
    "# 2: wheel back left\n",
    "# 3: wheel middle right\n",
    "# 4: wheel middle left\n",
    "# 5: wheel front right\n",
    "# 6: wheel front left\n",
    "\n",
    "# truck item numbers\n",
    "# 0: chassis\n",
    "# 1: shaft\n",
    "# 2: wheel back right\n",
    "# 3: wheel back left\n",
    "# 4: wheel front right\n",
    "# 5: wheel front left\n",
    "\n",
    "item_steering_rotations_truck = array([0,-0.6,-0.6,0,0,1,1])\n",
    "item_steering_rotations_trailer = array([0,0,-0.6,-0.6,0,0])"
   ]
  },
  {
   "cell_type": "code",
   "execution_count": 37,
   "metadata": {},
   "outputs": [
    {
     "data": {
      "image/png": "[encoded data removed]",
      "text/plain": [
       "<Figure size 720x720 with 1 Axes>"
      ]
     },
     "metadata": {
      "needs_background": "light"
     },
     "output_type": "display_data"
    }
   ],
   "source": [
    "fig = plt.figure(figsize=(10,10))\n",
    "ax1 = fig.add_subplot(111, aspect='equal')\n",
    "ax1.axes.get_xaxis().set_visible(False)\n",
    "ax1.axes.get_yaxis().set_visible(False)\n",
    "\n",
    "## Truck plotting\n",
    "wheel_rectangles = []\n",
    "everything = []\n",
    "truck_rectangle = patches.Rectangle(-rotation_center_truck,truck_shape[0],truck_shape[1],color=\"black\",alpha=0.50)\n",
    "wheel_rectangles = [patches.Rectangle(-wheel_shape/2,wheel_shape[0],wheel_shape[1],color=\"black\",alpha=0.50) for wheel_number in range(item_translations_truck.shape[0])]\n",
    "everything = [truck_rectangle]+wheel_rectangles\n",
    "\n",
    "item_number = 0\n",
    "item_rotation = []\n",
    "item_translation = []\n",
    "for item_number in range(len(everything)-1):\n",
    "    # rotate wheels\n",
    "    item_rotation = item_rotation+[transforms.Affine2D().rotate_deg(steering_percentage*maximal_steering_angle*item_steering_rotations_truck[item_number])]\n",
    "    # translate wheels\n",
    "    item_translation = item_translation+[transforms.Affine2D().translate(item_translations_truck[item_number,0],item_translations_truck[item_number,1])]\n",
    "# rotate truck with wheels\n",
    "rotation_everything = transforms.Affine2D().rotate_deg(truck_rotation)\n",
    "# translate truck with wheels\n",
    "translation_everything = transforms.Affine2D().translate(truck_translation[0],truck_translation[1])\n",
    "\n",
    "for item_number in range(len(everything)-1):\n",
    "    item_transformation = item_rotation[item_number]+item_translation[item_number]+rotation_everything+translation_everything+ax1.transData\n",
    "    everything[item_number].set_transform(item_transformation)\n",
    "    ax1.add_patch(everything[item_number])\n",
    "    \n",
    "## Destination plotting\n",
    "destination_rectangle = patches.Rectangle(-destination_shape/2,truck_shape[0],truck_shape[1], color=\"red\", alpha=0.50)\n",
    "rotation_destination = transforms.Affine2D().rotate_deg(destination_rotation)\n",
    "translation_destination = transforms.Affine2D().translate(destination_translation[0],destination_translation[1])\n",
    "destination_transformation = rotation_destination+translation_destination+ax1.transData\n",
    "destination_rectangle.set_transform(destination_transformation)\n",
    "ax1.add_patch(destination_rectangle)\n",
    "\n",
    "## Trailer plotting\n",
    "wheel_rectangles = []\n",
    "everything = []\n",
    "trailer_rectangle = patches.Rectangle(-rotation_center_trailer,trailer_shape[0],trailer_shape[1],color=\"black\",alpha=0.50)\n",
    "shaft_rectangle = patches.Rectangle(-shaft_shape/2,shaft_shape[0],shaft_shape[1],color=\"black\",alpha=0.50)\n",
    "wheel_rectangles = [patches.Rectangle(-wheel_shape/2,wheel_shape[0],wheel_shape[1],color=\"black\",alpha=0.50) for wheel_number in range(item_translations_trailer.shape[0]-1)]\n",
    "everything = [trailer_rectangle]+[shaft_rectangle]+wheel_rectangles\n",
    "\n",
    "item_number = 0\n",
    "item_rotation = []\n",
    "item_translation = []\n",
    "for item_number in range(len(everything)-1):\n",
    "    # rotate wheels\n",
    "    item_rotation = item_rotation+[transforms.Affine2D().rotate_deg(steering_percentage*maximal_steering_angle*item_steering_rotations_trailer[item_number])]\n",
    "    # translate wheels\n",
    "    item_translation = item_translation+[transforms.Affine2D().translate(item_translations_trailer[item_number,0],item_translations_trailer[item_number,1])]\n",
    "# rotate trailer with wheels\n",
    "rotation_everything = transforms.Affine2D().rotate_deg(truck_rotation+trailer_rotation)\n",
    "# translate trailer with wheels\n",
    "translation_everything = transforms.Affine2D().translate(truck_translation[0]+hitch_translation_truck*np.cos(np.deg2rad(truck_rotation))-hitch_translation_trailer*np.cos(np.deg2rad(truck_rotation+trailer_rotation)),truck_translation[1]+hitch_translation_truck*np.sin(np.deg2rad(truck_rotation))-hitch_translation_trailer*np.sin(np.deg2rad(truck_rotation+trailer_rotation)))\n",
    "\n",
    "for item_number in range(len(everything)-1):\n",
    "    item_transformation = item_rotation[item_number]+item_translation[item_number]+rotation_everything+translation_everything+ax1.transData\n",
    "    everything[item_number].set_transform(item_transformation)\n",
    "    ax1.add_patch(everything[item_number])\n",
    "\n",
    "plt.xlim(0, yard_shape[0])\n",
    "plt.ylim(0, yard_shape[1])\n",
    "\n",
    "plt.show()"
   ]
  },
  {
   "cell_type": "code",
   "execution_count": null,
   "metadata": {},
   "outputs": [],
   "source": []
  }
 ],
 "metadata": {
  "kernelspec": {
   "display_name": "Python 3",
   "language": "python",
   "name": "python3"
  },
  "language_info": {
   "codemirror_mode": {
    "name": "ipython",
    "version": 3
   },
   "file_extension": ".py",
   "mimetype": "text/x-python",
   "name": "python",
   "nbconvert_exporter": "python",
   "pygments_lexer": "ipython3",
   "version": "3.7.4"
  }
 },
 "nbformat": 4,
 "nbformat_minor": 2
}
