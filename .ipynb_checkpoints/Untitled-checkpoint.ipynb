{
 "cells": [
  {
   "cell_type": "code",
   "execution_count": null,
   "metadata": {},
   "outputs": [],
   "source": [
    "import numpy as np\n",
    "from numpy import array\n",
    "import matplotlib\n",
    "import matplotlib.pyplot as plt\n",
    "from matplotlib import patches\n",
    "from matplotlib import transforms\n",
    "%matplotlib inline"
   ]
  },
  {
   "cell_type": "code",
   "execution_count": null,
   "metadata": {},
   "outputs": [],
   "source": [
    "steering_percentage = 0.5\n",
    "truck_translation = array([5,5])\n",
    "truck_rotation = -135\n",
    "destination_translation = array([18,17.5])\n",
    "destination_rotation = 90"
   ]
  },
  {
   "cell_type": "code",
   "execution_count": null,
   "metadata": {},
   "outputs": [],
   "source": [
    "yard_shape = array([20,20])\n",
    "truck_shape = array([5,2])\n",
    "wheel_shape = array([0.8,0.4])\n",
    "wheel_translations = array([\n",
    "    [0,0],\n",
    "    [-1,-0.8],\n",
    "    [-1,0.8],\n",
    "    [0,-0.8],\n",
    "    [0,0.8],\n",
    "    [2,-0.8],\n",
    "    [2,0.8]])\n",
    "rotation_center = array([2,1])\n",
    "maximal_steering_angle = 60\n",
    "\n",
    "# item numbers\n",
    "# 0: chassis\n",
    "# 1: wheel back right\n",
    "# 2: wheel back left\n",
    "# 3: wheel middle right\n",
    "# 4: wheel middle left\n",
    "# 5: wheel front right\n",
    "# 6: wheel front left \n",
    "\n",
    "wheel_steering_rotations = array([0,-0.6,-0.6,0,0,1,1])"
   ]
  },
  {
   "cell_type": "code",
   "execution_count": 4,
   "metadata": {},
   "outputs": [
    {
     "data": {
      "image/png": "[encoded data removed]",
      "text/plain": [
       "<Figure size 720x720 with 1 Axes>"
      ]
     },
     "metadata": {
      "needs_background": "light"
     },
     "output_type": "display_data"
    }
   ],
   "source": [
    "fig = plt.figure(figsize=(10,10))\n",
    "ax1 = fig.add_subplot(111, aspect='equal')\n",
    "ax1.axes.get_xaxis().set_visible(False)\n",
    "ax1.axes.get_yaxis().set_visible(False)\n",
    "\n",
    "chassis_rectangle = patches.Rectangle(-rotation_center,truck_shape[0],truck_shape[1],color=\"black\",alpha=0.50)\n",
    "wheel_rectangles = [patches.Rectangle(-wheel_shape/2,wheel_shape[0],wheel_shape[1],color=\"black\",alpha=0.50) for wheel_number in range(wheel_translations.shape[0])]\n",
    "everything = [chassis_rectangle]+wheel_rectangles\n",
    "\n",
    "item_number = 0\n",
    "item_rotation = []\n",
    "item_translation = []\n",
    "\n",
    "for item_number in range(len(everything)-1):\n",
    "    # rotate wheels\n",
    "    item_rotation = item_rotation+[transforms.Affine2D().rotate_deg(steering_percentage*maximal_steering_angle*wheel_steering_rotations[item_number])]\n",
    "    # translate wheels\n",
    "    item_translation = item_translation+[transforms.Affine2D().translate(wheel_translations[item_number,0],wheel_translations[item_number,1])]\n",
    "# rotate chassis with wheels\n",
    "rotation_everything = transforms.Affine2D().rotate_deg(truck_rotation)\n",
    "# translate chassis with wheels\n",
    "translation_everything = transforms.Affine2D().translate(truck_translation[0],truck_translation[1])\n",
    "\n",
    "for item_number in range(len(everything)-1):\n",
    "    item_transformation = item_rotation[item_number]+item_translation[item_number]+rotation_everything+translation_everything+ax1.transData\n",
    "    everything[item_number].set_transform(item_transformation)\n",
    "    ax1.add_patch(everything[item_number])\n",
    "\n",
    "destination_rectangle = patches.Rectangle(-rotation_center,truck_shape[0],truck_shape[1], color=\"red\", alpha=0.50)\n",
    "rotation_destination = transforms.Affine2D().rotate_deg(destination_rotation)\n",
    "translation_destination = transforms.Affine2D().translate(destination_translation[0],destination_translation[1])\n",
    "destination_transformation = rotation_destination+translation_destination+ax1.transData\n",
    "destination_rectangle.set_transform(destination_transformation)\n",
    "ax1.add_patch(destination_rectangle)\n",
    "\n",
    "plt.xlim(0, yard_shape[0])\n",
    "plt.ylim(0, yard_shape[1])\n",
    "\n",
    "plt.show()"
   ]
  },
  {
   "cell_type": "code",
   "execution_count": null,
   "metadata": {},
   "outputs": [],
   "source": []
  }
 ],
 "metadata": {
  "kernelspec": {
   "display_name": "Python 3",
   "language": "python",
   "name": "python3"
  },
  "language_info": {
   "codemirror_mode": {
    "name": "ipython",
    "version": 3
   },
   "file_extension": ".py",
   "mimetype": "text/x-python",
   "name": "python",
   "nbconvert_exporter": "python",
   "pygments_lexer": "ipython3",
   "version": "3.7.4"
  }
 },
 "nbformat": 4,
 "nbformat_minor": 2
}
