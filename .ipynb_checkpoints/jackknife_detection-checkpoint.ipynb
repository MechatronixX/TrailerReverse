{
 "cells": [
  {
   "cell_type": "code",
   "execution_count": 63,
   "metadata": {},
   "outputs": [],
   "source": [
    "# imports\n",
    "import numpy as np\n",
    "#from numpy import array"
   ]
  },
  {
   "cell_type": "code",
   "execution_count": 71,
   "metadata": {},
   "outputs": [],
   "source": [
    "###################################################################################################################\n",
    "# This function returns a boolean that indicates if boxes overlap (the truck is in a jack-knife situation)\n",
    "# input:\n",
    "#       corners    matrix with the corners of all boxes\n",
    "# output:\n",
    "#     jackknife    boolean that indicates if boxes overlap\n",
    "###################################################################################################################\n",
    "\n",
    "def detect_jackknife(corners):\n",
    "    jackknife = False\n",
    "    num_boxes = corners.shape[1]//2\n",
    "    if num_boxes == 2:\n",
    "        jackknife = check_if_overlap(corners[:, 0:1], corners[:, 2:3])\n",
    "    elif num_boxes == 3:\n",
    "        jackknife = check_if_overlap(corners[:, 0:1], corners[:, 2:3])\n",
    "        jackknife = check_if_overlap(corners[:, 2:3], corners[:, 4:5])\n",
    "        jackknife = check_if_overlap(corners[:, 4:5], corners[:, 0:1])\n",
    "    \n",
    "    return jackknife"
   ]
  },
  {
   "cell_type": "code",
   "execution_count": 65,
   "metadata": {},
   "outputs": [],
   "source": [
    "###################################################################################################################\n",
    "# This function returns a boolean that indicates if a box defined by its corners has a corner that lies outside of \n",
    "# the yard.\n",
    "# input:\n",
    "#      veh_corners    corners of the box/vehicle\n",
    "#     yard_corners    corners of the yard\n",
    "# output:\n",
    "#          outside    boolean that indicates if corner of vehicle lies outside of the yard\n",
    "###################################################################################################################\n",
    "\n",
    "def check_if_outside_yard(veh_corners, yard_corners):\n",
    "    outside = False\n",
    "    for i in range(len(veh_corners)):\n",
    "        if veh_corners[i, 0] <= yard_corners[0, 0] or veh_corners[i, 0] >= yard_corners[1, 0]:\n",
    "            outside = True\n",
    "        elif veh_corners[i, 1] <= yard_corners[0, 1] or veh_corners[i, 1] >= yard_corners[2, 1]:\n",
    "            outside = True\n",
    "    \n",
    "    return outside"
   ]
  },
  {
   "cell_type": "code",
   "execution_count": 66,
   "metadata": {},
   "outputs": [],
   "source": [
    "###################################################################################################################\n",
    "# This function checks if two boxes overlap\n",
    "# input:\n",
    "#     corners1    corners of box 1\n",
    "#     corners2    corners of box 2\n",
    "# output:\n",
    "#      overlap    boolean that indicates if the two boxes overlap\n",
    "###################################################################################################################\n",
    "\n",
    "def check_if_overlap(corners1, corners2):\n",
    "    if check_corner_inside(corners1, corners2) or check_corner_inside(corners2, corners1):\n",
    "        overlap = True\n",
    "    else:\n",
    "        overlap = False\n",
    "        \n",
    "    return overlap"
   ]
  },
  {
   "cell_type": "code",
   "execution_count": 67,
   "metadata": {},
   "outputs": [],
   "source": [
    "###################################################################################################################\n",
    "# This function checks if the corners of one box are inside the other box\n",
    "# input:\n",
    "#     corners1    corners of box 1\n",
    "#     corners2    corners of box 2\n",
    "# output:\n",
    "#       inside    boolean that indicates if a corner of box 1 lies inside box 2\n",
    "###################################################################################################################\n",
    "\n",
    "def check_corner_inside(corners1, corners2):\n",
    "    edges = getEdges(corners2)\n",
    "    #print(edges)\n",
    "    \n",
    "    # check for every corner of box 1\n",
    "    for i in range(len(corners1)):\n",
    "        inside = True\n",
    "        # check for every edge of box 2 if point lies to the left\n",
    "        for j in range(len(corners2)):\n",
    "            #print(edges[j, :])\n",
    "            #print(corners1[i, :] - corners2[j, :])\n",
    "            angle = getAngle(edges[j, :], corners1[i, :] - corners2[j, :])\n",
    "            if angle < 0:\n",
    "                inside = False\n",
    "                break\n",
    "        \n",
    "        # returns True if one corner of box 1 lies inside box 2\n",
    "        if inside:\n",
    "            return inside\n",
    "        \n",
    "    return inside"
   ]
  },
  {
   "cell_type": "code",
   "execution_count": null,
   "metadata": {},
   "outputs": [],
   "source": [
    "###################################################################################################################\n",
    "# This function returns the four corners of a box that is defined by its center of rotation and its shape.\n",
    "# input:\n",
    "#     rotation_center    center of rotation of box that defines to bottom left corner\n",
    "#               shape    contains width and height of box\n",
    "# output:\n",
    "#             corners    coordinates of all four corners of the box\n",
    "###################################################################################################################\n",
    "\n",
    "def get_corners(rotation_center, shape):\n",
    "    # calculate coordinates of all four corners and put them in an array\n",
    "    # [bottom left, bottom right, top right, top left]\n",
    "    corners = np.array([                 0,\\\n",
    "                                   shape[0],\\\n",
    "                        shape[0] + shape[1],\\\n",
    "                                   shape[1]]) - rotation_center\n",
    "    \n",
    "    return corners"
   ]
  },
  {
   "cell_type": "code",
   "execution_count": 69,
   "metadata": {},
   "outputs": [],
   "source": [
    "###################################################################################################################\n",
    "# This function returns the edges of a box defined by its corners\n",
    "# input:\n",
    "#     corners    corners of box\n",
    "# output:\n",
    "#       edges    edges of the box\n",
    "###################################################################################################################\n",
    "\n",
    "def getEdges(corners):\n",
    "    edges = np.array([corners[1, :] - corners[0, :],\\\n",
    "                      corners[2, :] - corners[1, :],\\\n",
    "                      corners[3, :] - corners[2, :],\\\n",
    "                      corners[0, :] - corners[3, :]])\n",
    "    \n",
    "    return edges"
   ]
  },
  {
   "cell_type": "code",
   "execution_count": 1,
   "metadata": {},
   "outputs": [],
   "source": [
    "###################################################################################################################\n",
    "# This function claculates the angle between two vectors\n",
    "# input:\n",
    "#        v0    vector 1\n",
    "#        v1    vector 2\n",
    "# output:\n",
    "#     angle    angle between both vectors in radian\n",
    "###################################################################################################################\n",
    "\n",
    "def getAngle(v0, v1):\n",
    "    angle = np.math.atan2(np.linalg.det([v0,v1]),np.dot(v0,v1))\n",
    "    \n",
    "    return angle"
   ]
  }
 ],
 "metadata": {
  "kernelspec": {
   "display_name": "Python 3",
   "language": "python",
   "name": "python3"
  },
  "language_info": {
   "codemirror_mode": {
    "name": "ipython",
    "version": 3
   },
   "file_extension": ".py",
   "mimetype": "text/x-python",
   "name": "python",
   "nbconvert_exporter": "python",
   "pygments_lexer": "ipython3",
   "version": "3.7.4"
  }
 },
 "nbformat": 4,
 "nbformat_minor": 2
}
